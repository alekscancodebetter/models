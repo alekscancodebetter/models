{
 "cells": [
  {
   "cell_type": "code",
   "execution_count": 4,
   "metadata": {},
   "outputs": [],
   "source": [
    "import joblib\n",
    "import tensorflow.keras.models\n",
    "import tensorflow as tf\n",
    "import numpy as np\n",
    "import sklearn\n",
    "import pandas as pd"
   ]
  },
  {
   "cell_type": "code",
   "execution_count": 5,
   "metadata": {},
   "outputs": [],
   "source": [
    "### first model \n",
    "lin_reg=joblib.load(\"first_model.joblib\")\n",
    "\n",
    "### second model\n",
    "sec_modell= tf.keras.models.load_model(\"second_model\")\n",
    "\n",
    "\n",
    "\n"
   ]
  },
  {
   "cell_type": "code",
   "execution_count": null,
   "metadata": {},
   "outputs": [],
   "source": [
    "\n",
    "def sek_to_time(sekunden):\n",
    "    stunden = sekunden // 3600\n",
    "    minuten = (sekunden % 3600) // 60\n",
    "    restsekunden = sekunden % 60\n",
    "    return stunden,minuten,restsekunden"
   ]
  },
  {
   "cell_type": "code",
   "execution_count": 6,
   "metadata": {},
   "outputs": [],
   "source": [
    "def f_modell(time):\n",
    "    funk=(lambda x: x.hour * 3600 + x.minute * 60 + x.second)\n",
    "    time_for_modell=np.array(funk(time)).reshape(-1,1)\n",
    "    output=lin_reg.predict(time_for_modell)\n",
    "    output=int(output[0,0])\n",
    "    return (output-time_for_modell) # the output will be the check-out of one person so substract to calc the period omne patient stays\n",
    "\n",
    "def sec_modell(month,day):\n",
    "    #point=pd.DataFrame(hier goes the input) we have to make the input like the ones we use in the csv-datei\n",
    "    new_point=pd.get_dummies() # in the brackets write point from the previos line\n",
    "    new_point=tf.convert_to_tensor(new_point,dtype=tf.int64)\n",
    "    result=sec_modell.predict(new_point[:1 ])\n",
    "    return result[0][0]\n",
    "    \n",
    "def predict(time,month,day):\n",
    "    av_time=f_modell(time)\n",
    "    av_people=sec_modell(month,day)\n",
    "    result=(av_time*av_people)\n",
    "    return av_people,sek_to_time(result) #returns the av_people waitung accordinmg to the month and day and the second one return the predicted waiting time "
   ]
  }
 ],
 "metadata": {
  "kernelspec": {
   "display_name": "base",
   "language": "python",
   "name": "python3"
  },
  "language_info": {
   "codemirror_mode": {
    "name": "ipython",
    "version": 3
   },
   "file_extension": ".py",
   "mimetype": "text/x-python",
   "name": "python",
   "nbconvert_exporter": "python",
   "pygments_lexer": "ipython3",
   "version": "3.11.5"
  }
 },
 "nbformat": 4,
 "nbformat_minor": 2
}
