{
 "cells": [
  {
   "cell_type": "code",
   "execution_count": 44,
   "metadata": {},
   "outputs": [],
   "source": [
    "import joblib\n",
    "import tensorflow.keras.models\n",
    "import tensorflow as tf\n",
    "import numpy as np\n",
    "import sklearn\n",
    "import pandas as pd\n",
    "import datetime"
   ]
  },
  {
   "cell_type": "code",
   "execution_count": 45,
   "metadata": {},
   "outputs": [],
   "source": [
    "### first model \n",
    "lin_reg=joblib.load(\"first_model.joblib\")\n",
    "\n",
    "### second model\n",
    "second_modell= tf.keras.models.load_model(\"second_model\")\n",
    "\n",
    "### declined model\n",
    "declined_modell=tf.keras.models.load_model(\"declined_model\")\n"
   ]
  },
  {
   "cell_type": "code",
   "execution_count": 46,
   "metadata": {},
   "outputs": [],
   "source": [
    "\n",
    "def sek_to_time(sekunden):\n",
    "    stunden = sekunden // 3600\n",
    "    minuten = (sekunden % 3600) // 60\n",
    "    restsekunden = sekunden % 60\n",
    "    return stunden,minuten,restsekunden"
   ]
  },
  {
   "cell_type": "code",
   "execution_count": 47,
   "metadata": {},
   "outputs": [],
   "source": [
    "dataFrameRead=pd.read_csv(\"schedule.csv\")\n",
    "dataFrameInitial=pd.DataFrame(dataFrameRead.iloc[:,:-1])\n"
   ]
  },
  {
   "cell_type": "code",
   "execution_count": 52,
   "metadata": {},
   "outputs": [],
   "source": [
    "def f_modell(time):\n",
    "    funk=(lambda x: x.hour * 3600 + x.minute * 60 + x.second)\n",
    "    time_for_modell=np.array(funk(time)).reshape(-1,1)\n",
    "    output=lin_reg.predict(time_for_modell)\n",
    "    output=int(output[0,0])\n",
    "    return (output-time_for_modell) # the output will be the check-out of one person so substract to calc the period omne patient stays\n",
    "\n",
    "def sec_modell(month,day):\n",
    "    new_row=(month,day)\n",
    "    dataFrameInitial.loc[len(dataFrameInitial)] = new_row\n",
    "    dataFrameLatest=pd.get_dummies(dataFrameInitial)\n",
    "    dataFrameLatestAfter=tf.convert_to_tensor(dataFrameLatest,dtype=tf.int64)\n",
    "    result=second_modell.predict(dataFrameLatestAfter[-1:])\n",
    "    return result\n",
    "\n",
    "def dec_modell(month,day):\n",
    "    new_row=(month,day)\n",
    "    dataFrameInitial.loc[len(dataFrameInitial)] = new_row\n",
    "    dataFrameLatest=pd.get_dummies(dataFrameInitial)\n",
    "    dataFrameLatestAfter=tf.convert_to_tensor(dataFrameLatest,dtype=tf.int64)\n",
    "    result=declined_modell.predict(dataFrameLatestAfter[-1:])\n",
    "    return result\n",
    "    \n",
    "def predict(time,month,day):\n",
    "    time_to_sek=lambda x: x.hour * 3600 + x.minute * 60 + x.second\n",
    "    check_in_time=time_to_sek(time)\n",
    "    av_time=f_modell(time)\n",
    "    av_people=sec_modell(month,day)\n",
    "    result=((av_time*av_people)) #the rusult predicted wihtout possible decline \n",
    "    av_dec=dec_modell(month,day)\n",
    "    result_of_dec=((av_dec*av_time))\n",
    "    finall_resul=(result-result_of_dec) #the result after concideration of possible decline \n",
    "    #print(sek_to_time(result))\n",
    "    #print(sek_to_time(result_aufter_dec))   ###everything works fine\n",
    "    #print(sek_to_time(finall_resul))\n",
    "    return av_people,sek_to_time(check_in_time+result),av_dec,sek_to_time(check_in_time+finall_resul) #returns the av_people waitung accordinmg to the month and day and the second one return the predicted waiting time"
   ]
  },
  {
   "cell_type": "code",
   "execution_count": 53,
   "metadata": {},
   "outputs": [
    {
     "name": "stdout",
     "output_type": "stream",
     "text": [
      "1/1 [==============================] - 0s 10ms/step\n",
      "1/1 [==============================] - 0s 10ms/step\n",
      "(array([[19.953194]], dtype=float32), (array([[28.]]), array([[34.]]), array([[45.38886261]])), array([[1.0402932]], dtype=float32), (array([[27.]]), array([[47.]]), array([[51.39571142]])))\n"
     ]
    }
   ],
   "source": [
    "result=predict(datetime.time(13,35,12),\"November\",\"Monday\")\n",
    "print(result)"
   ]
  }
 ],
 "metadata": {
  "kernelspec": {
   "display_name": "base",
   "language": "python",
   "name": "python3"
  },
  "language_info": {
   "codemirror_mode": {
    "name": "ipython",
    "version": 3
   },
   "file_extension": ".py",
   "mimetype": "text/x-python",
   "name": "python",
   "nbconvert_exporter": "python",
   "pygments_lexer": "ipython3",
   "version": "3.11.5"
  }
 },
 "nbformat": 4,
 "nbformat_minor": 2
}
