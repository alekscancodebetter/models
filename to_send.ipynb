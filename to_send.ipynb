{
 "cells": [
  {
   "cell_type": "code",
   "execution_count": 134,
   "metadata": {},
   "outputs": [],
   "source": [
    "import joblib\n",
    "import tensorflow.keras.models\n",
    "import tensorflow as tf\n",
    "import numpy as np\n",
    "import sklearn\n",
    "import pandas as pd\n",
    "import datetime"
   ]
  },
  {
   "cell_type": "code",
   "execution_count": 135,
   "metadata": {},
   "outputs": [],
   "source": [
    "### first model \n",
    "lin_reg=joblib.load(\"first_model.joblib\")\n",
    "\n",
    "### second model\n",
    "second_modell= tf.keras.models.load_model(\"second_model\")\n",
    "\n",
    "\n",
    "\n"
   ]
  },
  {
   "cell_type": "code",
   "execution_count": 136,
   "metadata": {},
   "outputs": [],
   "source": [
    "\n",
    "def sek_to_time(sekunden):\n",
    "    stunden = sekunden // 3600\n",
    "    minuten = (sekunden % 3600) // 60\n",
    "    restsekunden = sekunden % 60\n",
    "    return stunden,minuten,restsekunden"
   ]
  },
  {
   "cell_type": "code",
   "execution_count": 137,
   "metadata": {},
   "outputs": [],
   "source": [
    "dataFrameRead=pd.read_csv(\"schedule.csv\")\n",
    "dataFrameInitial=pd.DataFrame(dataFrameRead.iloc[:,:-1])\n"
   ]
  },
  {
   "cell_type": "code",
   "execution_count": 192,
   "metadata": {},
   "outputs": [],
   "source": [
    "def f_modell(time):\n",
    "    funk=(lambda x: x.hour * 3600 + x.minute * 60 + x.second)\n",
    "    time_for_modell=np.array(funk(time)).reshape(-1,1)\n",
    "    output=lin_reg.predict(time_for_modell)\n",
    "    output=int(output[0,0])\n",
    "    return (output-time_for_modell) # the output will be the check-out of one person so substract to calc the period omne patient stays\n",
    "\n",
    "def sec_modell(month,day):\n",
    "    new_row=(month,day)\n",
    "    dataFrameInitial.loc[len(dataFrameInitial)] = new_row\n",
    "    dataFrameLatest=pd.get_dummies(dataFrameInitial)\n",
    "    dataFrameLatestAfter=tf.convert_to_tensor(dataFrameLatest,dtype=tf.int64)\n",
    "    result=second_modell.predict(dataFrameLatestAfter[-1:])\n",
    "    return result\n",
    "    \n",
    "def predict(time,month,day):\n",
    "    time_to_sek=lambda x: x.hour * 3600 + x.minute * 60 + x.second\n",
    "    check_in_time=time_to_sek(time)\n",
    "    av_time=f_modell(time)\n",
    "    av_people=sec_modell(month,day)\n",
    "    result=((av_time*av_people))\n",
    "    return av_people,sek_to_time(check_in_time+result) #returns the av_people waitung accordinmg to the month and day and the second one return the predicted waiting time"
   ]
  },
  {
   "cell_type": "code",
   "execution_count": 198,
   "metadata": {},
   "outputs": [
    {
     "name": "stdout",
     "output_type": "stream",
     "text": [
      "1/1 [==============================] - 0s 14ms/step\n",
      "(array([[19.953194]], dtype=float32), (array([[28.]]), array([[34.]]), array([[45.38886261]])))\n"
     ]
    }
   ],
   "source": [
    "result=predict(datetime.time(13,35,12),\"November\",\"Monday\")\n",
    "print(result)"
   ]
  }
 ],
 "metadata": {
  "kernelspec": {
   "display_name": "base",
   "language": "python",
   "name": "python3"
  },
  "language_info": {
   "codemirror_mode": {
    "name": "ipython",
    "version": 3
   },
   "file_extension": ".py",
   "mimetype": "text/x-python",
   "name": "python",
   "nbconvert_exporter": "python",
   "pygments_lexer": "ipython3",
   "version": "3.11.5"
  }
 },
 "nbformat": 4,
 "nbformat_minor": 2
}
