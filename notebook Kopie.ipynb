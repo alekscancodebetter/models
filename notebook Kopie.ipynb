{
 "cells": [
  {
   "cell_type": "code",
   "execution_count": 32,
   "metadata": {},
   "outputs": [],
   "source": [
    "import psycopg2\n",
    "import numpy as np\n",
    "import pandas as pd\n",
    "from sklearn import linear_model\n",
    "from sklearn.model_selection import train_test_split,cross_val_score\n",
    "import datetime as dt"
   ]
  },
  {
   "cell_type": "code",
   "execution_count": 33,
   "metadata": {},
   "outputs": [],
   "source": [
    "dbname = 'aleksandargeorgiev'\n",
    "user = 'aleksandargeorgiev'\n",
    "password = 'none'\n",
    "host = 'localhost'  # or your PostgreSQL server IP address\n",
    "port = '5432'       # default PostgreSQL port\n",
    "\n",
    "conn = psycopg2.connect(dbname=dbname, user=user, password=password, host=host, port=port)\n",
    "\n",
    "# Create a cursor object using the connection\n",
    "cursor = conn.cursor()\n",
    "\n"
   ]
  },
  {
   "cell_type": "code",
   "execution_count": 34,
   "metadata": {},
   "outputs": [],
   "source": [
    "query='''INSERT INTO patients(check_in, check_out)\n",
    "SELECT\n",
    "  make_time(check_in_hour, check_in_minute, check_in_second) as check_in,\n",
    "  make_time(check_in_hour + (random() * (2 - 1))::int, check_in_minute + (random() * (30 - 0))::int, check_in_second + (random() * (30 - 0))::int) as check_out\n",
    "FROM (\n",
    "  SELECT\n",
    "    floor(random() * (23 - 1))::int + 1 as check_in_hour, -- Random hour between 1 and 22\n",
    "    floor(random() * (30 - 0))::int as check_in_minute,   -- Random minute between 0 and 59\n",
    "    floor(random() * (30 - 0))::int as check_in_second    -- Random second between 0 and 59\n",
    "  FROM\n",
    "    generate_series(1, 20000) AS event_id\n",
    ") AS times;'''\n",
    "\n",
    "cursor.execute(query)\n",
    "\n",
    "conn.commit()\n"
   ]
  },
  {
   "cell_type": "code",
   "execution_count": 35,
   "metadata": {},
   "outputs": [
    {
     "data": {
      "text/plain": [
       "'for row in rows:\\n    print(row)'"
      ]
     },
     "execution_count": 35,
     "metadata": {},
     "output_type": "execute_result"
    }
   ],
   "source": [
    "cursor.execute('''SELECT * FROM patients''')\n",
    "\n",
    "rows=cursor.fetchall()\n",
    "'''for row in rows:\n",
    "    print(row)'''\n",
    "\n"
   ]
  },
  {
   "cell_type": "code",
   "execution_count": 36,
   "metadata": {},
   "outputs": [
    {
     "data": {
      "text/html": [
       "<div>\n",
       "<style scoped>\n",
       "    .dataframe tbody tr th:only-of-type {\n",
       "        vertical-align: middle;\n",
       "    }\n",
       "\n",
       "    .dataframe tbody tr th {\n",
       "        vertical-align: top;\n",
       "    }\n",
       "\n",
       "    .dataframe thead th {\n",
       "        text-align: right;\n",
       "    }\n",
       "</style>\n",
       "<table border=\"1\" class=\"dataframe\">\n",
       "  <thead>\n",
       "    <tr style=\"text-align: right;\">\n",
       "      <th></th>\n",
       "      <th>id</th>\n",
       "      <th>checkin</th>\n",
       "      <th>checkout</th>\n",
       "    </tr>\n",
       "  </thead>\n",
       "  <tbody>\n",
       "    <tr>\n",
       "      <th>0</th>\n",
       "      <td>2061</td>\n",
       "      <td>07:24:20</td>\n",
       "      <td>07:25:46</td>\n",
       "    </tr>\n",
       "    <tr>\n",
       "      <th>1</th>\n",
       "      <td>2062</td>\n",
       "      <td>05:10:04</td>\n",
       "      <td>05:38:20</td>\n",
       "    </tr>\n",
       "    <tr>\n",
       "      <th>2</th>\n",
       "      <td>2063</td>\n",
       "      <td>22:09:18</td>\n",
       "      <td>22:15:46</td>\n",
       "    </tr>\n",
       "    <tr>\n",
       "      <th>3</th>\n",
       "      <td>2064</td>\n",
       "      <td>16:04:27</td>\n",
       "      <td>17:22:51</td>\n",
       "    </tr>\n",
       "    <tr>\n",
       "      <th>4</th>\n",
       "      <td>2065</td>\n",
       "      <td>11:20:13</td>\n",
       "      <td>12:32:18</td>\n",
       "    </tr>\n",
       "  </tbody>\n",
       "</table>\n",
       "</div>"
      ],
      "text/plain": [
       "     id   checkin  checkout\n",
       "0  2061  07:24:20  07:25:46\n",
       "1  2062  05:10:04  05:38:20\n",
       "2  2063  22:09:18  22:15:46\n",
       "3  2064  16:04:27  17:22:51\n",
       "4  2065  11:20:13  12:32:18"
      ]
     },
     "execution_count": 36,
     "metadata": {},
     "output_type": "execute_result"
    }
   ],
   "source": [
    "df = pd.DataFrame(rows, columns=[\"id\",\"checkin\",\"checkout\"])\n",
    "df.head()"
   ]
  },
  {
   "cell_type": "code",
   "execution_count": 37,
   "metadata": {},
   "outputs": [
    {
     "name": "stdout",
     "output_type": "stream",
     "text": [
      "(440000, 1)\n",
      "(440000, 1)\n"
     ]
    }
   ],
   "source": [
    "df[\"checkin_sec\"] = df[\"checkin\"].apply(lambda x: x.hour * 3600 + x.minute * 60 + x.second)\n",
    "df[\"checkout_sec\"] = df[\"checkout\"].apply(lambda x: x.hour * 3600 + x.minute * 60 + x.second)\n",
    "\n",
    "x=np.array(df[\"checkin_sec\"]).reshape(-1,1)\n",
    "y=np.array(df[\"checkout_sec\"]).reshape(-1,1)\n",
    "\n",
    "#print(df[\"checkin_sec\"].shape)\n",
    "#print(df[\"checkout_sec\"].shape)\n",
    "print(x.shape)\n",
    "print(y.shape)"
   ]
  },
  {
   "cell_type": "markdown",
   "metadata": {},
   "source": [
    "test-train split and error-list"
   ]
  },
  {
   "cell_type": "code",
   "execution_count": 38,
   "metadata": {},
   "outputs": [],
   "source": [
    "cross_score={}\n",
    "x_train,x_test,y_train,y_test=train_test_split(x,y,test_size=0.30,shuffle=True,random_state=42)\n"
   ]
  },
  {
   "cell_type": "code",
   "execution_count": 39,
   "metadata": {},
   "outputs": [],
   "source": [
    "lin_reg=linear_model.LinearRegression().fit(x_train,y_train)\n",
    "cross_score[\"lin_reg\"]=cross_val_score(lin_reg,x,y,cv=10)\n"
   ]
  },
  {
   "cell_type": "code",
   "execution_count": 40,
   "metadata": {},
   "outputs": [],
   "source": [
    "lin_lasso_1=linear_model.Lasso(alpha=0.10).fit(x_train,y_train)\n",
    "lin_lasso_01=linear_model.Lasso(alpha=0.01).fit(x_train,y_train)\n",
    "lin_lasso_15=linear_model.Lasso(alpha=0.15).fit(x_train,y_train)\n",
    "lin_lasso_2=linear_model.Lasso(alpha=0.20).fit(x_train,y_train)\n",
    "\n",
    "names=[lin_lasso_1,lin_lasso_01,lin_lasso_15,lin_lasso_2]\n",
    "\n",
    "for name in names:\n",
    "    cross_score[name]=cross_val_score(name,x,y,cv=10)\n"
   ]
  },
  {
   "cell_type": "code",
   "execution_count": 41,
   "metadata": {},
   "outputs": [],
   "source": [
    "lin_ridge_1=linear_model.Ridge(alpha=0.10).fit(x_train,y_train)\n",
    "lin_ridge_01=linear_model.Ridge(alpha=0.01).fit(x_train,y_train)\n",
    "lin_ridge_15=linear_model.Ridge(alpha=0.15).fit(x_train,y_train)\n",
    "lin_ridge_2=linear_model.Ridge(alpha=0.20).fit(x_train,y_train)\n",
    "\n",
    "names=[lin_ridge_1,lin_ridge_01,lin_ridge_15,lin_ridge_2]\n",
    "\n",
    "for name in names:\n",
    "    cross_score[name]=cross_val_score(name,x,y,cv=10)\n",
    "\n"
   ]
  },
  {
   "cell_type": "markdown",
   "metadata": {},
   "source": [
    "maybe do a NN but may be overkill\n",
    "-lets see the results\n"
   ]
  },
  {
   "cell_type": "code",
   "execution_count": 42,
   "metadata": {},
   "outputs": [
    {
     "name": "stdout",
     "output_type": "stream",
     "text": [
      "lin_reg              has right in: 0.9933160699425093 %\n",
      "Lasso(alpha=0.1)     has right in: 0.9933160699425091 %\n",
      "Lasso(alpha=0.01)    has right in: 0.9933160699425091 %\n",
      "Lasso(alpha=0.15)    has right in: 0.9933160699425093 %\n",
      "Lasso(alpha=0.2)     has right in: 0.9933160699425091 %\n",
      "Ridge(alpha=0.1)     has right in: 0.9933160699425093 %\n",
      "Ridge(alpha=0.01)    has right in: 0.9933160699425093 %\n",
      "Ridge(alpha=0.15)    has right in: 0.9933160699425093 %\n",
      "Ridge(alpha=0.2)     has right in: 0.9933160699425093 %\n"
     ]
    }
   ],
   "source": [
    "for mod,score in cross_score.items():\n",
    "    cross_score[mod]=np.mean(score)\n",
    "\n",
    "for mod,score in cross_score.items():\n",
    "    print(f\"{str(mod):<20}\"+\" has right in: \"+f\"{(score)}\"+\" %\")\n",
    "\n"
   ]
  },
  {
   "cell_type": "markdown",
   "metadata": {},
   "source": [
    "use those models to predict:"
   ]
  },
  {
   "cell_type": "code",
   "execution_count": 44,
   "metadata": {},
   "outputs": [
    {
     "ename": "SyntaxError",
     "evalue": "invalid syntax (3159555883.py, line 1)",
     "output_type": "error",
     "traceback": [
      "\u001b[0;36m  Cell \u001b[0;32mIn[44], line 1\u001b[0;36m\u001b[0m\n\u001b[0;31m    my_time=[5:10:24].dt.time\u001b[0m\n\u001b[0m              ^\u001b[0m\n\u001b[0;31mSyntaxError\u001b[0m\u001b[0;31m:\u001b[0m invalid syntax\n"
     ]
    }
   ],
   "source": [
    "my_time=[5:10:24].dt.time"
   ]
  }
 ],
 "metadata": {
  "kernelspec": {
   "display_name": "base",
   "language": "python",
   "name": "python3"
  },
  "language_info": {
   "codemirror_mode": {
    "name": "ipython",
    "version": 3
   },
   "file_extension": ".py",
   "mimetype": "text/x-python",
   "name": "python",
   "nbconvert_exporter": "python",
   "pygments_lexer": "ipython3",
   "version": "3.11.5"
  }
 },
 "nbformat": 4,
 "nbformat_minor": 2
}
